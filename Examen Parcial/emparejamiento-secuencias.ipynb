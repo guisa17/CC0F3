{
 "cells": [
  {
   "cell_type": "markdown",
   "id": "fb08753d",
   "metadata": {},
   "source": [
    "# Algoritmos de Emparejamiento de Secuencias\n",
    "---"
   ]
  },
  {
   "cell_type": "markdown",
   "id": "f0fe2740",
   "metadata": {},
   "source": [
    "## Alineamiento Global: Needleman-Wunsch (NW)\n",
    "---"
   ]
  },
  {
   "cell_type": "code",
   "execution_count": null,
   "id": "9f734df7",
   "metadata": {},
   "outputs": [],
   "source": [
    "# TODO"
   ]
  },
  {
   "cell_type": "markdown",
   "id": "0609e470",
   "metadata": {},
   "source": [
    "## Alineamiento Local: Smith-Waterman (SW)\n",
    "---"
   ]
  },
  {
   "cell_type": "code",
   "execution_count": null,
   "id": "87953f72",
   "metadata": {},
   "outputs": [],
   "source": [
    "# TODO"
   ]
  }
 ],
 "metadata": {
  "kernelspec": {
   "display_name": "venv",
   "language": "python",
   "name": "python3"
  },
  "language_info": {
   "name": "python",
   "version": "3.14.0"
  }
 },
 "nbformat": 4,
 "nbformat_minor": 5
}
